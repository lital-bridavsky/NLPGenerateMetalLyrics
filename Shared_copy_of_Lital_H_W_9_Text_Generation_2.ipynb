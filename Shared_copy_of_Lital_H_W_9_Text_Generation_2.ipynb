{
  "cells": [
    {
      "cell_type": "markdown",
      "metadata": {
        "id": "view-in-github"
      },
      "source": [
        "<a href=\"https://colab.research.google.com/github/inbarhub/YDATA_DL_assignments_2021-2022/blob/main/H.W_9_Text_Generation.ipynb\" target=\"_parent\"><img src=\"https://colab.research.google.com/assets/colab-badge.svg\" alt=\"Open In Colab\"/></a>"
      ]
    },
    {
      "cell_type": "markdown",
      "metadata": {
        "id": "88X5OhoAJEJh"
      },
      "source": [
        "# RNN for text generation\n"
      ]
    },
    {
      "cell_type": "markdown",
      "metadata": {
        "id": "Yh_aPOY6JEJz"
      },
      "source": [
        "In this exercise, I've created a metal lyrics generator. Rock on."
      ]
    },
    {
      "cell_type": "markdown",
      "metadata": {
        "id": "npjwCeQRJEJ_"
      },
      "source": [
        "## RNN for Text Generation\n"
      ]
    },
    {
      "cell_type": "code",
      "execution_count": null,
      "metadata": {
        "collapsed": true,
        "id": "VGu71jqCJEKE"
      },
      "outputs": [],
      "source": [
        "import pandas as pd\n",
        "import torch\n",
        "import numpy as np\n",
        "import torch.nn as nn\n",
        "import torch.optim as optim\n",
        "from torch.optim import lr_scheduler\n",
        "import time\n",
        "import copy\n",
        "from torchsummary import summary\n",
        "from sklearn import preprocessing\n",
        "import matplotlib.pyplot as plt\n",
        "import random\n",
        "import torch.utils.data as data\n",
        "from wakepy import set_keepawake, unset_keepawake"
      ]
    },
    {
      "cell_type": "markdown",
      "metadata": {
        "id": "11kcoEy6rM_y"
      },
      "source": [
        "### data preprocessing"
      ]
    },
    {
      "cell_type": "code",
      "execution_count": null,
      "metadata": {
        "id": "ecgXKmjwrM_z"
      },
      "outputs": [],
      "source": [
        "path=\"C:/Users/user/Documents/Ydata/Ex 8 generating songs/english_cleaned_lyrics/\"\n"
      ]
    },
    {
      "cell_type": "code",
      "execution_count": null,
      "metadata": {
        "id": "DnkerqW-rM_z"
      },
      "outputs": [],
      "source": [
        "df=pd.read_csv(f\"{path}english_cleaned_lyrics.csv\")"
      ]
    },
    {
      "cell_type": "code",
      "execution_count": null,
      "metadata": {
        "id": "KDG0xhjorM_1"
      },
      "outputs": [],
      "source": [
        "df=df[df['genre']=='Metal']"
      ]
    },
    {
      "cell_type": "code",
      "execution_count": null,
      "metadata": {
        "colab": {
          "base_uri": "https://localhost:8080/",
          "height": 206
        },
        "id": "Qc2EelyUsDhH",
        "outputId": "8417747c-457b-425e-d5ef-d91af66f1200"
      },
      "outputs": [
        {
          "data": {
            "text/html": [
              "<div>\n",
              "<style scoped>\n",
              "    .dataframe tbody tr th:only-of-type {\n",
              "        vertical-align: middle;\n",
              "    }\n",
              "\n",
              "    .dataframe tbody tr th {\n",
              "        vertical-align: top;\n",
              "    }\n",
              "\n",
              "    .dataframe thead th {\n",
              "        text-align: right;\n",
              "    }\n",
              "</style>\n",
              "<table border=\"1\" class=\"dataframe\">\n",
              "  <thead>\n",
              "    <tr style=\"text-align: right;\">\n",
              "      <th></th>\n",
              "      <th>Unnamed: 0</th>\n",
              "      <th>index</th>\n",
              "      <th>song</th>\n",
              "      <th>year</th>\n",
              "      <th>artist</th>\n",
              "      <th>genre</th>\n",
              "      <th>lyrics</th>\n",
              "    </tr>\n",
              "  </thead>\n",
              "  <tbody>\n",
              "    <tr>\n",
              "      <th>331</th>\n",
              "      <td>415</td>\n",
              "      <td>415</td>\n",
              "      <td>northern-hymn</td>\n",
              "      <td>2011</td>\n",
              "      <td>demonaz</td>\n",
              "      <td>Metal</td>\n",
              "      <td>Gods Of The Mountains Sky Forest And Seas Land...</td>\n",
              "    </tr>\n",
              "    <tr>\n",
              "      <th>332</th>\n",
              "      <td>416</td>\n",
              "      <td>416</td>\n",
              "      <td>under-the-great-fires</td>\n",
              "      <td>2011</td>\n",
              "      <td>demonaz</td>\n",
              "      <td>Metal</td>\n",
              "      <td>Rise gods of the fierous black burning skies R...</td>\n",
              "    </tr>\n",
              "    <tr>\n",
              "      <th>333</th>\n",
              "      <td>417</td>\n",
              "      <td>417</td>\n",
              "      <td>all-blackened-sky</td>\n",
              "      <td>2011</td>\n",
              "      <td>demonaz</td>\n",
              "      <td>Metal</td>\n",
              "      <td>A Dying Skyline Cold From Wind And Rain Autumn...</td>\n",
              "    </tr>\n",
              "    <tr>\n",
              "      <th>334</th>\n",
              "      <td>418</td>\n",
              "      <td>418</td>\n",
              "      <td>legends-of-fire-and-ice</td>\n",
              "      <td>2011</td>\n",
              "      <td>demonaz</td>\n",
              "      <td>Metal</td>\n",
              "      <td>Fiends of the gods to war we ride Over the bla...</td>\n",
              "    </tr>\n",
              "    <tr>\n",
              "      <th>335</th>\n",
              "      <td>419</td>\n",
              "      <td>419</td>\n",
              "      <td>ode-to-battle</td>\n",
              "      <td>2011</td>\n",
              "      <td>demonaz</td>\n",
              "      <td>Metal</td>\n",
              "      <td>Cold Is The Winter On Its Ground We Ride To Th...</td>\n",
              "    </tr>\n",
              "  </tbody>\n",
              "</table>\n",
              "</div>"
            ],
            "text/plain": [
              "     Unnamed: 0  index                     song  year   artist  genre   \n",
              "331         415    415            northern-hymn  2011  demonaz  Metal  \\\n",
              "332         416    416    under-the-great-fires  2011  demonaz  Metal   \n",
              "333         417    417        all-blackened-sky  2011  demonaz  Metal   \n",
              "334         418    418  legends-of-fire-and-ice  2011  demonaz  Metal   \n",
              "335         419    419            ode-to-battle  2011  demonaz  Metal   \n",
              "\n",
              "                                                lyrics  \n",
              "331  Gods Of The Mountains Sky Forest And Seas Land...  \n",
              "332  Rise gods of the fierous black burning skies R...  \n",
              "333  A Dying Skyline Cold From Wind And Rain Autumn...  \n",
              "334  Fiends of the gods to war we ride Over the bla...  \n",
              "335  Cold Is The Winter On Its Ground We Ride To Th...  "
            ]
          },
          "execution_count": 8,
          "metadata": {},
          "output_type": "execute_result"
        }
      ],
      "source": [
        "df.head()"
      ]
    },
    {
      "cell_type": "code",
      "execution_count": null,
      "metadata": {
        "id": "WIydnqRerM_1"
      },
      "outputs": [],
      "source": [
        "lyrics=np.array(df.lyrics)"
      ]
    },
    {
      "cell_type": "code",
      "execution_count": null,
      "metadata": {
        "id": "i-1r1cbBrM_1"
      },
      "outputs": [],
      "source": [
        "chars=[]\n",
        "for song in lyrics:\n",
        "  for c in song:\n",
        "    chars.append(c.lower())\n",
        "  chars.append('[end]')\n"
      ]
    },
    {
      "cell_type": "code",
      "execution_count": null,
      "metadata": {
        "id": "8DNDK1M3rM_1"
      },
      "outputs": [],
      "source": [
        "# make set of all characters\n",
        "collection=list(set(chars))\n"
      ]
    },
    {
      "cell_type": "code",
      "execution_count": null,
      "metadata": {
        "colab": {
          "base_uri": "https://localhost:8080/"
        },
        "id": "g3ffrtNJpOCF",
        "outputId": "c0c34f35-144d-4489-c519-e62bf3f882c6"
      },
      "outputs": [
        {
          "data": {
            "text/plain": [
              "100000"
            ]
          },
          "execution_count": 12,
          "metadata": {},
          "output_type": "execute_result"
        }
      ],
      "source": [
        "corpuslength=len(chars[0:100000])\n",
        "corpuslength"
      ]
    },
    {
      "cell_type": "code",
      "execution_count": null,
      "metadata": {
        "id": "DzYoU5varM_2"
      },
      "outputs": [],
      "source": [
        "#char dictionaries\n",
        "\n",
        "int2char = dict(enumerate(collection))\n",
        "char2int = {ch: ii for ii, ch in int2char.items()}"
      ]
    },
    {
      "cell_type": "code",
      "execution_count": null,
      "metadata": {
        "colab": {
          "base_uri": "https://localhost:8080/"
        },
        "id": "1XJO2eS8rM_2",
        "outputId": "dfe9b061-73af-4583-b7ce-a15254b742f2"
      },
      "outputs": [
        {
          "data": {
            "text/plain": [
              "33"
            ]
          },
          "execution_count": 14,
          "metadata": {},
          "output_type": "execute_result"
        }
      ],
      "source": [
        "char2int['[end]']"
      ]
    },
    {
      "cell_type": "code",
      "execution_count": null,
      "metadata": {
        "colab": {
          "base_uri": "https://localhost:8080/"
        },
        "id": "MRZLx55jrM_4",
        "outputId": "a4faa840-d90c-454f-a34b-889190257167"
      },
      "outputs": [
        {
          "data": {
            "text/plain": [
              "51"
            ]
          },
          "execution_count": 15,
          "metadata": {},
          "output_type": "execute_result"
        }
      ],
      "source": [
        "N_LETTERS=len(int2char)\n",
        "N_LETTERS"
      ]
    },
    {
      "cell_type": "code",
      "execution_count": null,
      "metadata": {
        "id": "9JX7dsS6rM_4"
      },
      "outputs": [],
      "source": [
        "# Just for demonstration, turn a letter into a <1 x n_letters> Tensor\n",
        "def letter_to_tensor(letter):\n",
        "    tensor = torch.zeros(N_LETTERS)\n",
        "    tensor[char2int[letter]] = 1\n",
        "    return tensor\n",
        "\n",
        "# Turn a line into a <line_length x 1 x n_letters>,\n",
        "# or an array of one-hot letter vectors\n",
        "def line_to_tensor(line):\n",
        "    tensor = torch.zeros(len(line), N_LETTERS)\n",
        "    for i, letter in enumerate(line):\n",
        "        tensor[i][char2int[letter]] = 1\n",
        "    return tensor\n"
      ]
    },
    {
      "cell_type": "code",
      "execution_count": null,
      "metadata": {
        "id": "xpLOqmm6m6wI"
      },
      "outputs": [],
      "source": [
        "window = 20\n",
        "X_train = torch.zeros(corpuslength-window,  window , N_LETTERS)\n",
        "y_train = torch.zeros(corpuslength-window, N_LETTERS)\n",
        "\n",
        "for i in range(0, corpuslength - window):\n",
        "    input = chars[i:i + window]\n",
        "    X_train[i]=line_to_tensor(input)\n",
        "\n",
        "    true = chars[i + window]\n",
        "    y_train[i]=letter_to_tensor(true)\n",
        "\n",
        "\n"
      ]
    },
    {
      "cell_type": "code",
      "execution_count": null,
      "metadata": {
        "colab": {
          "base_uri": "https://localhost:8080/"
        },
        "id": "JqaWNBkABqvi",
        "outputId": "6c1a0fd3-3f1c-4397-d1d3-3f55045d48d0"
      },
      "outputs": [
        {
          "data": {
            "text/plain": [
              "torch.Size([99980, 20, 51])"
            ]
          },
          "execution_count": 18,
          "metadata": {},
          "output_type": "execute_result"
        }
      ],
      "source": [
        "X_train.shape"
      ]
    },
    {
      "cell_type": "code",
      "execution_count": null,
      "metadata": {
        "colab": {
          "base_uri": "https://localhost:8080/"
        },
        "id": "sjwSKk0KrM_5",
        "outputId": "142f0411-1505-4606-876c-5dfdf825cb25"
      },
      "outputs": [
        {
          "data": {
            "text/plain": [
              "device(type='cpu')"
            ]
          },
          "execution_count": 19,
          "metadata": {},
          "output_type": "execute_result"
        }
      ],
      "source": [
        "device = torch.device(\"cuda:0\" if torch.cuda.is_available() else \"cpu\")\n",
        "device"
      ]
    },
    {
      "cell_type": "markdown",
      "metadata": {
        "id": "O-NTl1FTrM_6"
      },
      "source": [
        "### Model and forward pass"
      ]
    },
    {
      "cell_type": "code",
      "execution_count": null,
      "metadata": {
        "id": "0ENNjQAyrM_6"
      },
      "outputs": [],
      "source": [
        "class CharRNN(nn.Module):\n",
        "    def __init__(self, tokens=51, hidden_size=256 ,layers=2 ,batchsize=128 ):\n",
        "        super(CharRNN, self).__init__()\n",
        "        self.layers=layers\n",
        "        self.hiddensize=hidden_size\n",
        "        self.lstm=nn.LSTM(input_size=tokens, hidden_size = hidden_size, num_layers =layers, batch_first=True,bidirectional =False\n",
        "                          ,dropout=0.1)\n",
        "        #X = batch x seq x input. batch x 1 x N_letters (one hot per letter)\n",
        "        self.batchsize=batchsize\n",
        "        self.linear = nn.Linear(hidden_size, tokens)\n",
        "\n",
        "    def forward(self, x, hidden, cell):\n",
        "        x, (h,c) = self.lstm(x,(hidden, cell))\n",
        "        # take only the last output\n",
        "        if len(x.shape)==3:\n",
        "          x = x[:, -1, :]\n",
        "        else:\n",
        "          x[-1, :]\n",
        "        # produce output\n",
        "        x = self.linear(x)\n",
        "        return x, (h, c)\n",
        "    def init_states(self, batchsize):\n",
        "        # Initialize the initial hidden and cell states\n",
        "        h0 = torch.randn((self.layers, batchsize, self.hiddensize)).to(device)\n",
        "        c0 = torch.randn((self.layers, batchsize, self.hiddensize)).to(device)\n",
        "        return (h0,c0)"
      ]
    },
    {
      "cell_type": "code",
      "execution_count": null,
      "metadata": {
        "id": "j-J8PIkZsJUF"
      },
      "outputs": [],
      "source": [
        "batch_size = 128\n",
        "loader = data.DataLoader(data.TensorDataset(X_train[0:99968], y_train[0:99968]), shuffle=True, batch_size=batch_size)"
      ]
    },
    {
      "cell_type": "code",
      "execution_count": null,
      "metadata": {
        "colab": {
          "base_uri": "https://localhost:8080/"
        },
        "id": "ClMEUf0frM_8",
        "outputId": "75724c71-08c4-4cfa-ccb3-7e7398229de2"
      },
      "outputs": [
        {
          "data": {
            "text/plain": [
              "(tensor([[ 0.0062, -0.0352, -0.0001,  ...,  0.0097, -0.0054, -0.0108],\n",
              "         [ 0.0036, -0.0326, -0.0009,  ...,  0.0092, -0.0064, -0.0099],\n",
              "         [ 0.0069, -0.0351, -0.0021,  ...,  0.0078, -0.0057, -0.0098],\n",
              "         ...,\n",
              "         [ 0.0064, -0.0338,  0.0018,  ...,  0.0094, -0.0097, -0.0109],\n",
              "         [ 0.0044, -0.0347,  0.0037,  ...,  0.0115, -0.0070, -0.0121],\n",
              "         [ 0.0053, -0.0341, -0.0002,  ...,  0.0093, -0.0054, -0.0113]],\n",
              "        grad_fn=<AddmmBackward0>),\n",
              " torch.Size([128, 51]))"
            ]
          },
          "execution_count": 22,
          "metadata": {},
          "output_type": "execute_result"
        }
      ],
      "source": [
        "model = CharRNN().to(device)\n",
        "(h,c) = model.init_states(batchsize=128)\n",
        "x,y = next(iter(loader))\n",
        "test,(h,c)=model(x.to(device), h, c)\n",
        "test,test.shape"
      ]
    },
    {
      "cell_type": "code",
      "execution_count": null,
      "metadata": {
        "colab": {
          "base_uri": "https://localhost:8080/"
        },
        "id": "vOym1u2oRlV0",
        "outputId": "bb413157-5962-440f-d3ed-138f1ec35370"
      },
      "outputs": [
        {
          "data": {
            "text/plain": [
              "(torch.Size([2, 128, 256]),\n",
              " torch.Size([2, 128, 256]),\n",
              " torch.Size([128, 20, 51]))"
            ]
          },
          "execution_count": 23,
          "metadata": {},
          "output_type": "execute_result"
        }
      ],
      "source": [
        "\n",
        "h.shape,c.shape,x.shape #input size: batch x seq length x \"input size\", 128 50 51\n",
        "#hidden 1 x batch x hidden"
      ]
    },
    {
      "cell_type": "code",
      "execution_count": null,
      "metadata": {
        "colab": {
          "base_uri": "https://localhost:8080/"
        },
        "id": "65qSa0duGapS",
        "outputId": "e953a72a-a18d-48be-e7ea-b16e5f3aaf81"
      },
      "outputs": [
        {
          "data": {
            "text/plain": [
              "tensor(504.8995, grad_fn=<NegBackward0>)"
            ]
          },
          "execution_count": 24,
          "metadata": {},
          "output_type": "execute_result"
        }
      ],
      "source": [
        "loss_fn = nn.CrossEntropyLoss(reduction=\"sum\")\n",
        "loss_fn(test.to(device), y.to(device))"
      ]
    },
    {
      "cell_type": "code",
      "execution_count": null,
      "metadata": {
        "id": "niFQzZT8rM__"
      },
      "outputs": [],
      "source": [
        " def tensor_to_letter(output,temp=1):\n",
        "    return int2char[ output.argmax().item()]\n"
      ]
    },
    {
      "cell_type": "code",
      "execution_count": null,
      "metadata": {
        "id": "_krULqwuEMFd"
      },
      "outputs": [],
      "source": [
        "def tensor_to_text(tensor):\n",
        "  string=''\n",
        "  for t in tensor:\n",
        "    c=int2char[t.argmax().item()]\n",
        "    string+=c\n",
        "  return string\n"
      ]
    },
    {
      "cell_type": "code",
      "execution_count": null,
      "metadata": {
        "colab": {
          "base_uri": "https://localhost:8080/"
        },
        "id": "pGAY3RHmJyvr",
        "outputId": "5284349f-882e-4334-961f-a629545250f0"
      },
      "outputs": [
        {
          "name": "stdout",
          "output_type": "stream",
          "text": [
            "Prompt: \"  anywhere so pretend\" \u0019\n",
            "Prompt: \"  anywhere so pretend\" \u0019s\n",
            "Prompt: \"  anywhere so pretend\" \u0019sw\n"
          ]
        }
      ],
      "source": [
        "temp=1\n",
        "model.eval()\n",
        "\n",
        "start,_ = next(iter(loader))\n",
        "start = start[0]\n",
        "endtensor=letter_to_tensor('[end]')\n",
        "max_length=50\n",
        "\n",
        "string='Prompt: \" '  +  tensor_to_text(start) + '\" '\n",
        "\n",
        "with torch.no_grad():  # no need to track history in sampling\n",
        "    hidden, cell = model.init_states(batchsize=1)\n",
        "    hidden, cell = hidden[:,0,:],cell[:,0,:] #[3 x 256] (layers x hidden)\n",
        "\n",
        "    input = start\n",
        "    input.shape #20 x 51 seq x letters\n",
        "\n",
        "    for i in range(3):\n",
        "        output, (hidden , cell) = model(input.to(device) ,hidden,cell)\n",
        "        output = nn.functional.softmax( output[-1].div(temp), dim=0 )\n",
        "        output = torch.multinomial(output, 1)\n",
        "        letter = int2char[output.item()]\n",
        "        string=string+letter\n",
        "        if letter == '[end]':\n",
        "             break\n",
        "        out=letter_to_tensor(letter)\n",
        "        input = torch.cat((input.to(device),out.reshape(1,-1)),0)\n",
        "        input = input[1:]\n",
        "        print(string)\n"
      ]
    },
    {
      "cell_type": "code",
      "execution_count": null,
      "metadata": {
        "colab": {
          "base_uri": "https://localhost:8080/"
        },
        "id": "GDwssetoTl6X",
        "outputId": "51036ae5-7d39-4f6b-decc-4893a90e7f4d"
      },
      "outputs": [
        {
          "name": "stdout",
          "output_type": "stream",
          "text": [
            "testg\n"
          ]
        }
      ],
      "source": [
        "str='test'\n",
        "l='g'\n",
        "str=str+l\n",
        "print(str)"
      ]
    },
    {
      "cell_type": "code",
      "execution_count": null,
      "metadata": {
        "id": "jARI2pa7rM__"
      },
      "outputs": [],
      "source": [
        "def gen_text(temp=1,max_length=50):\n",
        "    model.eval()\n",
        "\n",
        "    start,_ = next(iter(loader))\n",
        "    start = start[0]\n",
        "\n",
        "\n",
        "    string='Prompt: \" '  +  tensor_to_text(start) + '\" '\n",
        "\n",
        "    with torch.no_grad():  # no need to track history in sampling\n",
        "        hidden, cell = model.init_states(batchsize=1)\n",
        "        hidden, cell = hidden[:,0,:],cell[:,0,:] #[3 x 256] (layers x hidden)\n",
        "\n",
        "        input = start\n",
        "        input.shape #20 x 51 seq x letters\n",
        "\n",
        "        for i in range(max_length):\n",
        "            output, (hidden , cell) = model(input.to(device) ,hidden,cell)\n",
        "            output = nn.functional.softmax( output[-1].div(temp), dim=0 )\n",
        "            output = torch.multinomial(output, 1)\n",
        "            letter = int2char[output.item()]\n",
        "            string=string+letter\n",
        "            if letter == '[end]':\n",
        "                break\n",
        "            out=letter_to_tensor(letter)\n",
        "            input = torch.cat((input.to(device),out.reshape(1,-1)),0)\n",
        "            input = input[1:]\n",
        "    print(string)\n"
      ]
    },
    {
      "cell_type": "code",
      "execution_count": null,
      "metadata": {
        "colab": {
          "base_uri": "https://localhost:8080/"
        },
        "id": "2xS7oRWUHygN",
        "outputId": "0fa358e2-4ac3-4a7a-8084-3260f5409657"
      },
      "outputs": [
        {
          "name": "stdout",
          "output_type": "stream",
          "text": [
            "Prompt: \" et big solitude and \" 1[nbnd[end]\n"
          ]
        }
      ],
      "source": [
        "gen_text(temp=1)"
      ]
    },
    {
      "cell_type": "code",
      "execution_count": null,
      "metadata": {
        "id": "wLhj5OYgrM_9"
      },
      "outputs": [],
      "source": [
        "def train_model(model, criterion, optimizer, scheduler,num_epochs=5):\n",
        "    since = time.time()\n",
        "    train_res= []\n",
        "    model.train()\n",
        "\n",
        "    for epoch in range(num_epochs):\n",
        "        epoch_loss=0\n",
        "        (hidden,cell) = model.init_states(batchsize=128)\n",
        "\n",
        "        for X_batch, y_batch in loader:\n",
        "          with torch.set_grad_enabled(True):\n",
        "              out, (hidden,cell) = model(X_batch.to(device), hidden, cell)\n",
        "              loss = criterion(out, y_batch.to(device))\n",
        "              loss.backward() # Perform a step in the opposite direction of the gradient\n",
        "              optimizer.step() # Adapt the optimizer\n",
        "              optimizer.zero_grad()\n",
        "          hidden = hidden.detach()\n",
        "          cell =  cell.detach()\n",
        "\n",
        "          train_res.append(loss.item())\n",
        "          epoch_loss += loss.item()\n",
        "\n",
        "        scheduler.step()\n",
        "        print(f'Loss: {epoch_loss}')\n",
        "\n",
        "        gen_text(temp=1)\n",
        "\n",
        "    time_elapsed = time.time() - since\n",
        "    print(f'Training complete in {(time_elapsed // 60):.0f}m {(time_elapsed % 60):.0f}s')\n",
        "\n",
        "    plt.plot(train_res)\n",
        "    plt.title('Loss')\n",
        "    plt.show()\n",
        "\n",
        "\n",
        "\n",
        "    return model\n",
        "\n",
        "model=CharRNN(tokens=N_LETTERS, hidden_size=256, layers=2, batchsize=128).to(device) #96 w categories?))"
      ]
    },
    {
      "cell_type": "code",
      "execution_count": null,
      "metadata": {
        "colab": {
          "base_uri": "https://localhost:8080/"
        },
        "id": "kdu3P8U4rM_-",
        "outputId": "be838def-5528-4c6e-ad51-2a25af837cd7"
      },
      "outputs": [
        {
          "name": "stdout",
          "output_type": "stream",
          "text": [
            "Loss: 210209.96389770508\n",
            "Prompt: \" war on the spineless\"  we areree the wiser im you're me grfong to besith\n",
            "Loss: 175607.49060058594\n",
            "Prompt: \" y four walls the ess\" hsles tstta teenssngop uconnsiyonsnlatmu attruo'ko\n",
            "Loss: 166243.44357299805\n",
            "Prompt: \" ade of stone holding\"  fliars our worting but time i can saes menicgind \n",
            "Loss: 132008.59899139404\n",
            "Prompt: \" our eye focused this\"  song our is the too leave ruttle and druggch you \n",
            "Loss: 121879.18506622314\n",
            "Prompt: \"  corrupted city was \" sun a wandering the searching on your final brothe\n",
            "Loss: 113290.77262878418\n",
            "Prompt: \" ses are longer some \" sees colcaning we scace and blind on a difference \n",
            "Loss: 105971.80444335938\n",
            "Prompt: \" i need your approval\"  stand beaten life change me back over fire to bre\n",
            "Loss: 86879.03690719604\n",
            "Prompt: \"  the greed the lies \" here do you're not ask the ashes into the houl sou\n",
            "Loss: 78252.23818969727\n",
            "Prompt: \" st closed eyes bring\"  that rathing the land dreams so i look upon bitch\n",
            "Loss: 72996.79376983643\n",
            "Prompt: \" pted city was swallo\" wing to this town my eyes are waiter the moment fl\n",
            "Loss: 68626.37593841553\n",
            "Prompt: \"  face like the most \" will be the rat you should he could keep your eyes\n",
            "Loss: 64549.56130981445\n",
            "Prompt: \"  the end of unfaithf\" ul one while got a prothers in i'm just one storie\n",
            "Loss: 60798.723499298096\n",
            "Prompt: \" u're not the only on\" e n from the others for a care of the seeds me her\n",
            "Loss: 57210.12692642212\n",
            "Prompt: \" wander alone through\"  days drone god has come to king the sane and ever\n",
            "Loss: 52242.70531463623\n",
            "Prompt: \" the wrong and the ri\" ght through thinkous their mandenies i'll once was\n",
            "Loss: 51529.014430999756\n",
            "Prompt: \" l wipe the tears awa\" y i cannot your mouth all if you feel you thormake\n",
            "Loss: 50974.247425079346\n",
            "Prompt: \" nd of the midnight s\" aid and flow as your hand in said to fight be a ne\n",
            "Loss: 50588.249477386475\n",
            "Prompt: \" ase help us get her \" soul pass at the sun crack to should your appragri\n",
            "Loss: 50202.12065124512\n",
            "Prompt: \"  and sleep i feel yo\" u take i look of seman it's just like i has ord in\n",
            "Loss: 49750.27114868164\n",
            "Prompt: \" ntain far over ice f\" orce you destroy we will not we will not be afraid\n",
            "Loss: 49446.54616546631\n",
            "Prompt: \"  time to do this bli\" nd horse me and we all his crossine[end]\n",
            "Loss: 48803.64408874512\n",
            "Prompt: \" d god so what should\"  die you will feel something to run the secret tam\n",
            "Loss: 48778.077072143555\n",
            "Prompt: \" s the tears i wept e\" mbrace the breeded but your hands are sturted lost\n",
            "Loss: 48765.206073760986\n",
            "Prompt: \" s all you have to do\"  is all the bigger the weapor far beyond i'm breat\n",
            "Loss: 48709.2505607605\n",
            "Prompt: \" kyline cold from win\" d you've closed the living the wars goneancenve ye\n",
            "Loss: 48630.468700408936\n",
            "Prompt: \" me never really did \" paint your fright paths all that she rous darkes a\n",
            "Loss: 48653.93406867981\n",
            "Prompt: \" nown and the madness\"  one step things i love it's not for you leaving u\n",
            "Loss: 48600.00646972656\n",
            "Prompt: \" r way to the top you\" r lies to go their party dack into a feeling throu\n",
            "Loss: 48511.490047454834\n",
            "Prompt: \" od reigns this is th\" rown at my mind new hell this thicks i'm sick into\n",
            "Loss: 48486.36965942383\n",
            "Prompt: \" eing the blue skies \" we'ry stoking down we will not be afraid for welz \n",
            "Loss: 48520.18254852295\n",
            "Prompt: \" l night here's to yo\" u fall away arvust the devil come our [end]\n",
            "Loss: 48494.37086105347\n",
            "Prompt: \" ht sun[end]i know the ga\" mes the world but i will show you mean the end of \n",
            "Loss: 48546.790576934814\n",
            "Prompt: \" ky warriors are we t\" o with the last carimal scream of will red beyond \n",
            "Loss: 48522.78409194946\n",
            "Prompt: \" ld i have done you w\" ill never be tear me away this one around you'll d\n",
            "Loss: 48440.21602630615\n",
            "Prompt: \" ucking sleep at nigh\" ts craw i'll make it aclone \"ut our eyes this song\n",
            "Loss: 48515.57395172119\n",
            "Prompt: \" ity of design there \" are only four ays ride step diging nearer conceivi\n",
            "Loss: 48517.68174743652\n",
            "Prompt: \" to help it isn't wor\" th the dark is wrethen there was hope where since \n",
            "Loss: 48516.795486450195\n",
            "Prompt: \"  every night we're y\" oung this till we stand my wings destroy me makes \n",
            "Loss: 48461.073875427246\n",
            "Prompt: \" t behind seem so far\"  away from oh horse their wonder and there i ever \n",
            "Loss: 48462.3607749939\n",
            "Prompt: \" ay in your eyes i se\" e myself or cold roid aching in front of me a son \n",
            "Loss: 48524.5066947937\n",
            "Prompt: \" away far away and al\" one chasing to gre this sad strust burn hunger of \n",
            "Loss: 48481.58505630493\n",
            "Prompt: \" skies all battalions\"  sweep scream of sorrow and set our ascent fauth a\n",
            "Loss: 48449.875286102295\n",
            "Prompt: \"  the sky all beings \" low definition brings go on should it as night as \n",
            "Loss: 48476.58023452759\n",
            "Prompt: \" u'll have to put me \" divide with me place under the gaster i'll fly up \n",
            "Loss: 48530.16514968872\n",
            "Prompt: \" to lose my faith in \" denial do i want to see the same world is mopests \n",
            "Loss: 48483.122608184814\n",
            "Prompt: \" g it's just like me \" hand and you wait to remember to the lies bring an\n",
            "Loss: 48501.307346343994\n",
            "Prompt: \" son fear in her hear\" t but felt because me you're not getting anywhere \n",
            "Loss: 48452.61552429199\n",
            "Prompt: \" ing their own grave \" you and alone is cown so change too great lost som\n",
            "Loss: 48472.51264190674\n",
            "Prompt: \"  narrow let this sad\"  soul is all who will go back the reasons i would \n",
            "Loss: 48486.96223449707\n",
            "Prompt: \" rapped my soul but o\" ne day if you cannot run to your sights weir not b\n",
            "Training complete in 91m 16s\n"
          ]
        },
        {
          "data": {
            "image/png": "[encoded data removed]",
            "text/plain": [
              "<Figure size 640x480 with 1 Axes>"
            ]
          },
          "metadata": {},
          "output_type": "display_data"
        },
        {
          "name": "stdout",
          "output_type": "stream",
          "text": [
            "Prompt: \" my bondage flesh and\"  hurns of it's not ahoun there is the truth i feel my head by my own my foreshles [end]\n",
            "Prompt: \" getting fucking loos\" e there is something commort the road that she world we rise march of the norse march of the norse and we are all i've been left beal ascends will we ever transcend and heavy is the shit eternity past before all set you were the plays after the reflection in front of me and only and you fool your mi\n"
          ]
        },
        {
          "data": {
            "text/plain": [
              "<function wakepy._win.unset_keepawake()>"
            ]
          },
          "execution_count": 32,
          "metadata": {},
          "output_type": "execute_result"
        }
      ],
      "source": [
        "\n",
        "\n",
        "loss_fn = nn.CrossEntropyLoss(reduction=\"sum\")\n",
        "\n",
        "optimizer_ft =  optim.Adam(model.parameters(), lr=0.005) #optim.SGD(model.parameters(), lr=0.01, momentum=0.9) #\n",
        "\n",
        "exp_lr_scheduler = lr_scheduler.StepLR(optimizer_ft, step_size=7, gamma=0.1)\n",
        "\n",
        "num_epochs = 50\n",
        "\n",
        "model = train_model(model,\n",
        "                       loss_fn,\n",
        "                       optimizer_ft,\n",
        "                       exp_lr_scheduler,\n",
        "                       num_epochs=num_epochs)\n",
        "\n",
        "gen_text(max_length = 300, temp=1)\n",
        "gen_text(max_length = 300, temp=0.8)\n",
        "\n"
      ]
    },
    {
      "cell_type": "code",
      "execution_count": null,
      "metadata": {
        "id": "Hne06oPDRFsN",
        "outputId": "3a570910-88f2-45e0-c61b-5d84633f092a"
      },
      "outputs": [
        {
          "name": "stdout",
          "output_type": "stream",
          "text": [
            "Prompt: \" ime that we've spent\"  chasing dreams as the life with maggots writhing \n"
          ]
        }
      ],
      "source": [
        "gen_text(temp=0.5)"
      ]
    },
    {
      "cell_type": "code",
      "execution_count": null,
      "metadata": {
        "id": "Vu3FKgvP0yOD",
        "outputId": "1ce0e9b9-2e80-441c-ae83-b10e8a0aa628"
      },
      "outputs": [
        {
          "name": "stdout",
          "output_type": "stream",
          "text": [
            "Prompt: \" e forgotten peace th\" e way all their fathers fearless i'll deep viciousness hard for my body gates of tomorrow think of fainta the sword for they have to do is all you have to kil days of leaving leaves get sometimes i can you humps the dawn and you've earned it i close there in me[end]\n"
          ]
        }
      ],
      "source": [
        "gen_text(max_length = 300, temp=1)"
      ]
    },
    {
      "cell_type": "markdown",
      "metadata": {
        "id": "kUeT3OS9JEKF"
      },
      "source": [
        "\n",
        "---\n",
        "#### This exericse was originally written by Dr. Omri Allouche."
      ]
    }
  ],
  "metadata": {
    "accelerator": "GPU",
    "anaconda-cloud": {},
    "colab": {
      "provenance": []
    },
    "kernelspec": {
      "display_name": "Python 3",
      "name": "python3"
    },
    "language_info": {
      "codemirror_mode": {
        "name": "ipython",
        "version": 3
      },
      "file_extension": ".py",
      "mimetype": "text/x-python",
      "name": "python",
      "nbconvert_exporter": "python",
      "pygments_lexer": "ipython3",
      "version": "3.11.1"
    }
  },
  "nbformat": 4,
  "nbformat_minor": 0
}